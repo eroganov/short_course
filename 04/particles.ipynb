{
 "cells": [
  {
   "cell_type": "markdown",
   "id": "fed7de83",
   "metadata": {},
   "source": [
    "## Некоторые важные статистические функции"
   ]
  },
  {
   "cell_type": "code",
   "execution_count": 1,
   "id": "ec2a2209",
   "metadata": {},
   "outputs": [],
   "source": [
    "import numpy as np # Подключаем NumPy"
   ]
  },
  {
   "cell_type": "markdown",
   "id": "99d78d7e",
   "metadata": {},
   "source": [
    "Функция `mean` позволяет найти среднее (арифметическое) значение элементов массива:"
   ]
  },
  {
   "cell_type": "code",
   "execution_count": 2,
   "id": "a49c6d35",
   "metadata": {},
   "outputs": [
    {
     "data": {
      "text/plain": [
       "2.5"
      ]
     },
     "execution_count": 2,
     "metadata": {},
     "output_type": "execute_result"
    }
   ],
   "source": [
    "arr = np.array([1., 2., 3., 4.])\n",
    "np.mean(arr)"
   ]
  },
  {
   "cell_type": "markdown",
   "id": "b4fa816e",
   "metadata": {},
   "source": [
    "Если числа в массиве `arr` представляют собой величину заработной платы пяти человек,\n",
    "то `np.mean(arr)` — средняя заработная плата этой группы людей:"
   ]
  },
  {
   "cell_type": "code",
   "execution_count": 3,
   "id": "9e51752c",
   "metadata": {},
   "outputs": [
    {
     "data": {
      "text/plain": [
       "200000.0"
      ]
     },
     "execution_count": 3,
     "metadata": {},
     "output_type": "execute_result"
    }
   ],
   "source": [
    "arr = np.array([1., 1., 1., 2., 999995.])\n",
    "np.mean(arr)"
   ]
  },
  {
   "cell_type": "markdown",
   "id": "9e8d49fa",
   "metadata": {},
   "source": [
    "Другой важной статистической характеристикой массива чисел является *медиана* — число, которое находится в середине массива, если его упорядочить по возрастанию:"
   ]
  },
  {
   "cell_type": "code",
   "execution_count": 4,
   "id": "a7ce2666",
   "metadata": {},
   "outputs": [
    {
     "data": {
      "text/plain": [
       "1.0"
      ]
     },
     "execution_count": 4,
     "metadata": {},
     "output_type": "execute_result"
    }
   ],
   "source": [
    "arr = np.array([1., 1., 1., 2., 999995.])\n",
    "np.median(arr)"
   ]
  },
  {
   "cell_type": "markdown",
   "id": "50ea6bde",
   "metadata": {},
   "source": [
    "В ситуациях, подобных проведённой ниже, медианой считают полусумму двух «средних» элементов:"
   ]
  },
  {
   "cell_type": "code",
   "execution_count": 5,
   "id": "5339ed77",
   "metadata": {},
   "outputs": [
    {
     "data": {
      "text/plain": [
       "1.5"
      ]
     },
     "execution_count": 5,
     "metadata": {},
     "output_type": "execute_result"
    }
   ],
   "source": [
    "arr = np.array([1., 1., 2., 999996.])\n",
    "np.median(arr)"
   ]
  },
  {
   "cell_type": "markdown",
   "id": "af51e108",
   "metadata": {},
   "source": [
    "Мы уже видели на примерах, что среднее значение, вообще говоря, не позволяет получить адекватное\n",
    "представление о массиве чисел. Важной и часто используемой характеристикой массива является\n",
    "*стандартное отклонение*, часто называемое также *среднеквадратическим* или *среднеквадратичным отклонением*.\n",
    "Эта величина показывает усреднённую величину отклонения элементов массива от их среднего значения:"
   ]
  },
  {
   "cell_type": "code",
   "execution_count": 6,
   "id": "aea1e910",
   "metadata": {},
   "outputs": [
    {
     "data": {
      "text/plain": [
       "1.118033988749895"
      ]
     },
     "execution_count": 6,
     "metadata": {},
     "output_type": "execute_result"
    }
   ],
   "source": [
    "arr = np.array([1., 2., 3., 4.])\n",
    "np.std(arr)"
   ]
  },
  {
   "cell_type": "code",
   "execution_count": 7,
   "id": "f1e0d875",
   "metadata": {},
   "outputs": [
    {
     "data": {
      "text/plain": [
       "111.80339887498948"
      ]
     },
     "execution_count": 7,
     "metadata": {},
     "output_type": "execute_result"
    }
   ],
   "source": [
    "arr = np.array([100., 200., 300., 400.])\n",
    "np.std(arr)"
   ]
  },
  {
   "cell_type": "code",
   "execution_count": 8,
   "id": "674683b3",
   "metadata": {},
   "outputs": [
    {
     "data": {
      "text/plain": [
       "0.0"
      ]
     },
     "execution_count": 8,
     "metadata": {},
     "output_type": "execute_result"
    }
   ],
   "source": [
    "arr = np.array([1., 1., 1., 1.])\n",
    "np.std(arr)"
   ]
  },
  {
   "cell_type": "markdown",
   "id": "0117d9c3",
   "metadata": {},
   "source": [
    "Для многомерных массивов функция `mean` позволяет также находить и среднее значение «по указанной оси»:"
   ]
  },
  {
   "cell_type": "code",
   "execution_count": 9,
   "id": "6b3b86b9",
   "metadata": {},
   "outputs": [
    {
     "data": {
      "text/plain": [
       "array([[1., 2.],\n",
       "       [3., 4.]])"
      ]
     },
     "metadata": {},
     "output_type": "display_data"
    },
    {
     "data": {
      "text/plain": [
       "2.5"
      ]
     },
     "metadata": {},
     "output_type": "display_data"
    },
    {
     "data": {
      "text/plain": [
       "array([2., 3.])"
      ]
     },
     "metadata": {},
     "output_type": "display_data"
    },
    {
     "data": {
      "text/plain": [
       "array([1.5, 3.5])"
      ]
     },
     "metadata": {},
     "output_type": "display_data"
    }
   ],
   "source": [
    "a = np.array([[1., 2.], [3., 4.]])\n",
    "display(a)\n",
    "display(np.mean(a))\n",
    "display(np.mean(a, axis=0))\n",
    "display(np.mean(a, axis=1))"
   ]
  },
  {
   "cell_type": "markdown",
   "id": "dc8c4559",
   "metadata": {},
   "source": [
    "## Другие полезные функции библиотеки NumPy"
   ]
  },
  {
   "cell_type": "markdown",
   "id": "4a79ad50",
   "metadata": {},
   "source": [
    "Двумерные массивы (таблицы) часто хранят в текстовых файлах с расширением `csv` (comma seprated values), где смежные величины в строке отделяются друг от друга запятой (возможно, точкой с запятой, или каким-то иным «стандартным» символом). Такие файлы легко открывают программы, предназначенные для работы с электронными таблицами: Open Office, Libre Office или Microsoft Excel.\n",
    "\n",
    "Вот простой пример файла `data.csv`:\n",
    "\n",
    "~~~\n",
    "1.,3.,4.\n",
    "0.,2.,1.\n",
    "~~~\n",
    "\n",
    "\n",
    "Функция `genfromtxt` позволяет создать двумерный массив из чисел, содержащихся в этом`csv`-файле:"
   ]
  },
  {
   "cell_type": "code",
   "execution_count": 10,
   "id": "373a4c01",
   "metadata": {},
   "outputs": [
    {
     "data": {
      "text/plain": [
       "array([[1., 3., 4.],\n",
       "       [0., 2., 1.]])"
      ]
     },
     "metadata": {},
     "output_type": "display_data"
    }
   ],
   "source": [
    "arr = np.genfromtxt('data.csv', delimiter=',')\n",
    "display(arr)"
   ]
  },
  {
   "cell_type": "markdown",
   "id": "3b007345",
   "metadata": {},
   "source": [
    "Часто бывает нужно объединить несколько массивов в один. Эту задачу позволяет решить функция\n",
    "`concatenate`, использовать которую особенно просто для одномерных массивов:"
   ]
  },
  {
   "cell_type": "code",
   "execution_count": 11,
   "id": "cbfbd731",
   "metadata": {},
   "outputs": [
    {
     "data": {
      "text/plain": [
       "array([ 2.,  3.,  4.,  5., -1.,  0.])"
      ]
     },
     "execution_count": 11,
     "metadata": {},
     "output_type": "execute_result"
    }
   ],
   "source": [
    "arr1 = [2., 3., 4.]\n",
    "arr2 = [5., -1, 0.]\n",
    "np.concatenate([arr1, arr2])"
   ]
  },
  {
   "cell_type": "markdown",
   "id": "70f1f154",
   "metadata": {},
   "source": [
    "Для изменения формы многомерного массива можно воспользоваться методом `reshape`, аргументом которого является кортеж величин, задающих размеры создаваемого массива:"
   ]
  },
  {
   "cell_type": "code",
   "execution_count": 12,
   "id": "61c1cbed",
   "metadata": {},
   "outputs": [
    {
     "data": {
      "text/plain": [
       "array([[1, 2, 3],\n",
       "       [4, 5, 6]])"
      ]
     },
     "metadata": {},
     "output_type": "display_data"
    },
    {
     "data": {
      "text/plain": [
       "array([[1, 2],\n",
       "       [3, 4],\n",
       "       [5, 6]])"
      ]
     },
     "execution_count": 12,
     "metadata": {},
     "output_type": "execute_result"
    }
   ],
   "source": [
    "arr = np.array([[1, 2, 3], [4, 5, 6]])\n",
    "display(arr)\n",
    "arr.reshape((3, 2))"
   ]
  },
  {
   "cell_type": "markdown",
   "id": "4f0f00ad",
   "metadata": {},
   "source": [
    "Так как количество элементов в массиве метод `reshape` не меняет, то он «может самостоятельно вычислить» одно из измерений создаваемого массива, вместо которого можно указывать `-1`:"
   ]
  },
  {
   "cell_type": "code",
   "execution_count": 13,
   "id": "6a3875ea",
   "metadata": {},
   "outputs": [
    {
     "data": {
      "text/plain": [
       "array([[1, 2, 3],\n",
       "       [4, 5, 6]])"
      ]
     },
     "metadata": {},
     "output_type": "display_data"
    },
    {
     "data": {
      "text/plain": [
       "array([[1, 2],\n",
       "       [3, 4],\n",
       "       [5, 6]])"
      ]
     },
     "execution_count": 13,
     "metadata": {},
     "output_type": "execute_result"
    }
   ],
   "source": [
    "arr = np.array([[1, 2, 3], [4, 5, 6]])\n",
    "display(arr)\n",
    "arr.reshape((-1, 2))"
   ]
  },
  {
   "cell_type": "markdown",
   "id": "54a93da3",
   "metadata": {},
   "source": [
    "## Формулировка задачи"
   ]
  },
  {
   "cell_type": "markdown",
   "id": "42ed94a9",
   "metadata": {},
   "source": [
    "С помощью библиотеки NumPy следует определить статистические характеристики\n",
    "потока ы-частиц (Ы — 29-я буква русского алфавита) на основе данных их \n",
    "регистрации специализированным\n",
    "ы-детектором в июле 2021 года. Данные представлены в виде csv-файлов,\n",
    "имена которых содержат дату наблюдения. Каждый из файлов содержит 24 строки и\n",
    "3600 столбцов. Число, содержащееся в $i$-й строке и $j$-м столбце, соответствует\n",
    "количеству ы-частиц, зарегистрированных за $j$-ю секунду $i$-го часа\n",
    "соответствующего дня. \n",
    "\n",
    "Файлы с именами `2021-07-21.csv`, `2021-07-22.csv`, …, `2021-07-30.csv` приложены.\n",
    "Для чтения данных из csv-файлов следует воспользоваться функцией `np.genfromtxt`.\n",
    "\n",
    "Требуется эффективно (используя функции и методы библиотеки NumPy):\n",
    "\n",
    "- обработать измерения за период с 22 по 27 июля;\n",
    "- не учитывать при этом ежедневные измерения, сделанные вне промежутка от 12 до 15 часов;\n",
    "- с целью уменьшения влияния ошибок ы-детектора вместо величин ежесекундных\n",
    "  измерений рассматривать усреднённые за 5 секунд значения.\n",
    "\n",
    "В результате решения задачи для указанного выше множества данных об\n",
    "интенсивности потока ы-частиц должны быть вычислены и напечатаны округлённые\n",
    "до трёх десятичных цифр после запятой:\n",
    "\n",
    "- среднее значение;\n",
    "- медиана;\n",
    "- стандартное отклонение."
   ]
  },
  {
   "cell_type": "markdown",
   "id": "5fe28bb8",
   "metadata": {},
   "source": [
    "## Решение задачи"
   ]
  },
  {
   "cell_type": "markdown",
   "id": "c35beba1",
   "metadata": {},
   "source": [
    "Прочитать данные из первого нужного нам файла (соответствующего 22 июля) следует так:"
   ]
  },
  {
   "cell_type": "code",
   "execution_count": 14,
   "id": "95fb6d4c",
   "metadata": {},
   "outputs": [
    {
     "data": {
      "text/plain": [
       "array([[0., 0., 0., ..., 0., 0., 0.],\n",
       "       [0., 0., 0., ..., 0., 0., 0.],\n",
       "       [0., 0., 0., ..., 0., 0., 0.],\n",
       "       ...,\n",
       "       [0., 0., 0., ..., 0., 0., 0.],\n",
       "       [0., 0., 0., ..., 0., 0., 0.],\n",
       "       [0., 0., 0., ..., 0., 0., 0.]])"
      ]
     },
     "metadata": {},
     "output_type": "display_data"
    }
   ],
   "source": [
    "arr = np.genfromtxt('2021-07-22.csv', delimiter=',')\n",
    "display(arr)"
   ]
  },
  {
   "cell_type": "markdown",
   "id": "5a31a193",
   "metadata": {},
   "source": [
    "Нулей в этом массиве действительно много, но вовсе не все числа в нём нулевые:"
   ]
  },
  {
   "cell_type": "code",
   "execution_count": 15,
   "id": "f2ff786e",
   "metadata": {},
   "outputs": [
    {
     "data": {
      "text/plain": [
       "8536.0"
      ]
     },
     "execution_count": 15,
     "metadata": {},
     "output_type": "execute_result"
    }
   ],
   "source": [
    "arr[12, 1800]"
   ]
  },
  {
   "cell_type": "markdown",
   "id": "97056859",
   "metadata": {},
   "source": [
    "Так как нам не нужны измерения, сделанные вне промежутка от 12 до 15 часов, то реализуем это с помощью вырезки:"
   ]
  },
  {
   "cell_type": "code",
   "execution_count": 16,
   "id": "df14efb4",
   "metadata": {},
   "outputs": [
    {
     "data": {
      "text/plain": [
       "(3, 3600)"
      ]
     },
     "metadata": {},
     "output_type": "display_data"
    },
    {
     "data": {
      "text/plain": [
       "array([[7233., 7337., 7251., ..., 8882., 8995., 9061.],\n",
       "       [8833., 8935., 8875., ..., 6704., 6691., 6757.],\n",
       "       [6699., 6650., 6648., ..., 2733., 2671., 2725.]])"
      ]
     },
     "metadata": {},
     "output_type": "display_data"
    }
   ],
   "source": [
    "arr = np.genfromtxt('2021-07-22.csv', delimiter=',')[[12, 13, 14], :]\n",
    "display(np.shape(arr))\n",
    "display(arr)"
   ]
  },
  {
   "cell_type": "markdown",
   "id": "c9ce7227",
   "metadata": {},
   "source": [
    "В каждой из трёх строк этого массива содержатся 3600 чисел, каждое из которых равно\n",
    "количеству зарегистрированных ы-частиц в соответствующую секунду часа. \n",
    "\n",
    "Нам необходимо вместо величин ежесекундных измерений рассматривать усреднённые за 5 секунд\n",
    "значения. Проще всего этого добиться следующим образом: с помощью метода `reshape` создадим \n",
    "«пятёрки» чисел и методом `mean` вычислим их средние значения, получая одномерный массив:"
   ]
  },
  {
   "cell_type": "code",
   "execution_count": 17,
   "id": "8864d278",
   "metadata": {},
   "outputs": [
    {
     "data": {
      "text/plain": [
       "array([7280.8, 7192. , 7242.4, ..., 2697.8, 2696.4, 2709.6])"
      ]
     },
     "metadata": {},
     "output_type": "display_data"
    },
    {
     "data": {
      "text/plain": [
       "2160"
      ]
     },
     "metadata": {},
     "output_type": "display_data"
    }
   ],
   "source": [
    "arr = np.genfromtxt('2021-07-22.csv', delimiter=',')[[12, 13, 14], :].reshape(-1, 5).mean(axis=1)\n",
    "display(arr)\n",
    "display(len(arr))"
   ]
  },
  {
   "cell_type": "markdown",
   "id": "98bb0fe2",
   "metadata": {},
   "source": [
    "Понимаете ли вы, почему в нём содержится 2160 чисел?"
   ]
  },
  {
   "cell_type": "markdown",
   "id": "7fa58776",
   "metadata": {},
   "source": [
    "Так как нам нужно обработать данные за несколько дней (с 22 по 27 июля), то нужно выполнить\n",
    "указанные действия для каждого из них и объединить получаемые массивы в один:"
   ]
  },
  {
   "cell_type": "code",
   "execution_count": 18,
   "id": "7fcf5e81",
   "metadata": {},
   "outputs": [
    {
     "data": {
      "text/plain": [
       "array([7280.8, 7192. , 7242.4, ..., 3404.6, 3428.6, 3408.4])"
      ]
     },
     "metadata": {},
     "output_type": "display_data"
    },
    {
     "data": {
      "text/plain": [
       "12960"
      ]
     },
     "metadata": {},
     "output_type": "display_data"
    }
   ],
   "source": [
    "arr = np.concatenate([\n",
    "    np.genfromtxt(f'2021-07-{day}.csv',\n",
    "                  delimiter=',')[[12, 13, 14], :].reshape(-1, 5).mean(axis=1)\n",
    "    for day in range(22, 28)\n",
    "])\n",
    "display(arr)\n",
    "display(len(arr))"
   ]
  },
  {
   "cell_type": "markdown",
   "id": "ee73e92b",
   "metadata": {},
   "source": [
    "Остаётся вычислить требуемые статистические характеристики полученного массива и округлить их\n",
    "с помощью функции `round`:"
   ]
  },
  {
   "cell_type": "code",
   "execution_count": 19,
   "id": "6f923f49",
   "metadata": {},
   "outputs": [
    {
     "name": "stdout",
     "output_type": "stream",
     "text": [
      "Mean   = 7237.673\n",
      "Median = 8036.4\n",
      "Std    = 1830.902\n"
     ]
    }
   ],
   "source": [
    "print(f'Mean   = {round(np.mean(arr), 3)}')\n",
    "print(f'Median = {round(np.median(arr), 3)}')\n",
    "print(f'Std    = {round(np.std(arr), 3)}')"
   ]
  },
  {
   "cell_type": "markdown",
   "id": "4c690a18",
   "metadata": {},
   "source": [
    "Задача полностью решена."
   ]
  }
 ],
 "metadata": {
  "kernelspec": {
   "display_name": "Python 3 (ipykernel)",
   "language": "python",
   "name": "python3"
  },
  "language_info": {
   "codemirror_mode": {
    "name": "ipython",
    "version": 3
   },
   "file_extension": ".py",
   "mimetype": "text/x-python",
   "name": "python",
   "nbconvert_exporter": "python",
   "pygments_lexer": "ipython3",
   "version": "3.7.10"
  }
 },
 "nbformat": 4,
 "nbformat_minor": 5
}
